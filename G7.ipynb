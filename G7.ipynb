{
 "cells": [
  {
   "cell_type": "code",
   "execution_count": 2,
   "metadata": {},
   "outputs": [],
   "source": [
    "import pandas as pd\n",
    "import numpy as np\n",
    "import matplotlib.pyplot as plt\n",
    "from sklearn.preprocessing import MinMaxScaler\n",
    "from keras.models import Sequential\n",
    "from keras.layers import LSTM, Dense, SimpleRNN, Conv1D, MaxPooling1D, Flatten, Bidirectional\n",
    "from sklearn.metrics import mean_absolute_error, mean_squared_error"
   ]
  },
  {
   "cell_type": "code",
   "execution_count": 3,
   "metadata": {},
   "outputs": [
    {
     "name": "stdout",
     "output_type": "stream",
     "text": [
      "Gold Price Data:\n",
      "         Date      Open      High       Low     Close  Adj Close     Volume\n",
      "0  2002-07-01  1.364148  1.401700  1.334259  1.362615  -0.010452  1080397.0\n",
      "1  2002-07-02  1.386372  1.390971  1.356484  1.373344  -0.010535  1016147.0\n",
      "2  2002-07-03  1.371811  1.387139  1.364914  1.373344  -0.010535   980394.0\n",
      "3  2002-07-04  1.379475  1.401700  1.379475  1.381008  -0.010593   972747.0\n",
      "4  2002-07-05  1.388672  1.388672  1.372578  1.377942  -0.010570   974496.0\n"
     ]
    }
   ],
   "source": [
    "# Load the datasets\n",
    "gold_price_data = pd.read_csv('dataset/ADANIENT.NS.csv')\n",
    "\n",
    "# Display the first few rows of each dataset to understand their structure\n",
    "print(\"Gold Price Data:\")\n",
    "print(gold_price_data.head())\n",
    "\n",
    "# Preprocessing\n",
    "gold_price_data.isna().sum().sum()\n",
    "gold_price_data.dropna(inplace=True)\n",
    "\n",
    "gold_price_data['Date'] = pd.to_datetime(gold_price_data['Date'])\n",
    "gold_price_data.set_index('Date', inplace=True)\n",
    "gold_price_data = gold_price_data.sort_index()"
   ]
  },
  {
   "cell_type": "code",
   "execution_count": 4,
   "metadata": {},
   "outputs": [
    {
     "data": {
      "text/html": [
       "<div>\n",
       "<style scoped>\n",
       "    .dataframe tbody tr th:only-of-type {\n",
       "        vertical-align: middle;\n",
       "    }\n",
       "\n",
       "    .dataframe tbody tr th {\n",
       "        vertical-align: top;\n",
       "    }\n",
       "\n",
       "    .dataframe thead th {\n",
       "        text-align: right;\n",
       "    }\n",
       "</style>\n",
       "<table border=\"1\" class=\"dataframe\">\n",
       "  <thead>\n",
       "    <tr style=\"text-align: right;\">\n",
       "      <th></th>\n",
       "      <th>Open</th>\n",
       "      <th>High</th>\n",
       "      <th>Low</th>\n",
       "      <th>Close</th>\n",
       "      <th>Adj Close</th>\n",
       "      <th>Volume</th>\n",
       "    </tr>\n",
       "    <tr>\n",
       "      <th>Date</th>\n",
       "      <th></th>\n",
       "      <th></th>\n",
       "      <th></th>\n",
       "      <th></th>\n",
       "      <th></th>\n",
       "      <th></th>\n",
       "    </tr>\n",
       "  </thead>\n",
       "  <tbody>\n",
       "    <tr>\n",
       "      <th>2002-07-01</th>\n",
       "      <td>1.364148</td>\n",
       "      <td>1.401700</td>\n",
       "      <td>1.334259</td>\n",
       "      <td>1.362615</td>\n",
       "      <td>-0.010452</td>\n",
       "      <td>1080397.0</td>\n",
       "    </tr>\n",
       "    <tr>\n",
       "      <th>2002-07-02</th>\n",
       "      <td>1.386372</td>\n",
       "      <td>1.390971</td>\n",
       "      <td>1.356484</td>\n",
       "      <td>1.373344</td>\n",
       "      <td>-0.010535</td>\n",
       "      <td>1016147.0</td>\n",
       "    </tr>\n",
       "    <tr>\n",
       "      <th>2002-07-03</th>\n",
       "      <td>1.371811</td>\n",
       "      <td>1.387139</td>\n",
       "      <td>1.364914</td>\n",
       "      <td>1.373344</td>\n",
       "      <td>-0.010535</td>\n",
       "      <td>980394.0</td>\n",
       "    </tr>\n",
       "    <tr>\n",
       "      <th>2002-07-04</th>\n",
       "      <td>1.379475</td>\n",
       "      <td>1.401700</td>\n",
       "      <td>1.379475</td>\n",
       "      <td>1.381008</td>\n",
       "      <td>-0.010593</td>\n",
       "      <td>972747.0</td>\n",
       "    </tr>\n",
       "    <tr>\n",
       "      <th>2002-07-05</th>\n",
       "      <td>1.388672</td>\n",
       "      <td>1.388672</td>\n",
       "      <td>1.372578</td>\n",
       "      <td>1.377942</td>\n",
       "      <td>-0.010570</td>\n",
       "      <td>974496.0</td>\n",
       "    </tr>\n",
       "    <tr>\n",
       "      <th>...</th>\n",
       "      <td>...</td>\n",
       "      <td>...</td>\n",
       "      <td>...</td>\n",
       "      <td>...</td>\n",
       "      <td>...</td>\n",
       "      <td>...</td>\n",
       "    </tr>\n",
       "    <tr>\n",
       "      <th>2024-04-30</th>\n",
       "      <td>3094.000000</td>\n",
       "      <td>3108.449951</td>\n",
       "      <td>3045.000000</td>\n",
       "      <td>3054.699951</td>\n",
       "      <td>3054.699951</td>\n",
       "      <td>804552.0</td>\n",
       "    </tr>\n",
       "    <tr>\n",
       "      <th>2024-05-02</th>\n",
       "      <td>3071.949951</td>\n",
       "      <td>3119.850098</td>\n",
       "      <td>3015.050049</td>\n",
       "      <td>3039.600098</td>\n",
       "      <td>3039.600098</td>\n",
       "      <td>2219085.0</td>\n",
       "    </tr>\n",
       "    <tr>\n",
       "      <th>2024-05-03</th>\n",
       "      <td>3030.000000</td>\n",
       "      <td>3045.000000</td>\n",
       "      <td>2975.100098</td>\n",
       "      <td>2993.250000</td>\n",
       "      <td>2993.250000</td>\n",
       "      <td>1472168.0</td>\n",
       "    </tr>\n",
       "    <tr>\n",
       "      <th>2024-05-06</th>\n",
       "      <td>2993.250000</td>\n",
       "      <td>3000.199951</td>\n",
       "      <td>2850.000000</td>\n",
       "      <td>2874.649902</td>\n",
       "      <td>2874.649902</td>\n",
       "      <td>2377944.0</td>\n",
       "    </tr>\n",
       "    <tr>\n",
       "      <th>2024-05-07</th>\n",
       "      <td>2889.949951</td>\n",
       "      <td>2905.350098</td>\n",
       "      <td>2822.000000</td>\n",
       "      <td>2853.000000</td>\n",
       "      <td>2853.000000</td>\n",
       "      <td>1050059.0</td>\n",
       "    </tr>\n",
       "  </tbody>\n",
       "</table>\n",
       "<p>5426 rows × 6 columns</p>\n",
       "</div>"
      ],
      "text/plain": [
       "                   Open         High          Low        Close    Adj Close  \\\n",
       "Date                                                                          \n",
       "2002-07-01     1.364148     1.401700     1.334259     1.362615    -0.010452   \n",
       "2002-07-02     1.386372     1.390971     1.356484     1.373344    -0.010535   \n",
       "2002-07-03     1.371811     1.387139     1.364914     1.373344    -0.010535   \n",
       "2002-07-04     1.379475     1.401700     1.379475     1.381008    -0.010593   \n",
       "2002-07-05     1.388672     1.388672     1.372578     1.377942    -0.010570   \n",
       "...                 ...          ...          ...          ...          ...   \n",
       "2024-04-30  3094.000000  3108.449951  3045.000000  3054.699951  3054.699951   \n",
       "2024-05-02  3071.949951  3119.850098  3015.050049  3039.600098  3039.600098   \n",
       "2024-05-03  3030.000000  3045.000000  2975.100098  2993.250000  2993.250000   \n",
       "2024-05-06  2993.250000  3000.199951  2850.000000  2874.649902  2874.649902   \n",
       "2024-05-07  2889.949951  2905.350098  2822.000000  2853.000000  2853.000000   \n",
       "\n",
       "               Volume  \n",
       "Date                   \n",
       "2002-07-01  1080397.0  \n",
       "2002-07-02  1016147.0  \n",
       "2002-07-03   980394.0  \n",
       "2002-07-04   972747.0  \n",
       "2002-07-05   974496.0  \n",
       "...               ...  \n",
       "2024-04-30   804552.0  \n",
       "2024-05-02  2219085.0  \n",
       "2024-05-03  1472168.0  \n",
       "2024-05-06  2377944.0  \n",
       "2024-05-07  1050059.0  \n",
       "\n",
       "[5426 rows x 6 columns]"
      ]
     },
     "execution_count": 4,
     "metadata": {},
     "output_type": "execute_result"
    }
   ],
   "source": [
    "gold_price_data"
   ]
  },
  {
   "cell_type": "code",
   "execution_count": 3,
   "metadata": {},
   "outputs": [],
   "source": [
    "# Use only the 'Close' price for prediction\n",
    "data = gold_price_data['Close'].values\n",
    "data = data.reshape(-1, 1)\n",
    "\n",
    "# Scale the data\n",
    "scaler = MinMaxScaler(feature_range=(0, 1))\n",
    "scaled_data = scaler.fit_transform(data)\n",
    "\n",
    "# Split data into training and testing sets\n",
    "train_size = int(len(scaled_data) * 0.8)\n",
    "train_data = scaled_data[:train_size]\n",
    "test_data = scaled_data[train_size:]"
   ]
  },
  {
   "cell_type": "code",
   "execution_count": 4,
   "metadata": {},
   "outputs": [],
   "source": [
    "def create_dataset(data, window_size=1):\n",
    "    X, y = [], []\n",
    "    for i in range(len(data) - window_size - 1):\n",
    "        a = data[i:(i + window_size), 0]\n",
    "        X.append(a)\n",
    "        y.append(data[i + window_size, 0])\n",
    "    return np.array(X), np.array(y)"
   ]
  },
  {
   "cell_type": "code",
   "execution_count": 5,
   "metadata": {},
   "outputs": [],
   "source": [
    "window_size = 60  # You can adjust this window size\n",
    "X_train, y_train = create_dataset(train_data, window_size)\n",
    "X_test, y_test = create_dataset(test_data, window_size)\n",
    "\n",
    "# Reshape input to be [samples, time steps, features] for LSTM/RNN\n",
    "X_train = np.reshape(X_train, (X_train.shape[0], X_train.shape[1], 1))\n",
    "X_test = np.reshape(X_test, (X_test.shape[0], X_test.shape[1], 1))"
   ]
  },
  {
   "cell_type": "code",
   "execution_count": 6,
   "metadata": {},
   "outputs": [
    {
     "name": "stdout",
     "output_type": "stream",
     "text": [
      "4279/4279 [==============================] - 60s 13ms/step - loss: 7.0564e-06\n"
     ]
    },
    {
     "data": {
      "text/plain": [
       "<keras.callbacks.History at 0x1b0b9385b80>"
      ]
     },
     "execution_count": 6,
     "metadata": {},
     "output_type": "execute_result"
    }
   ],
   "source": [
    "# Bidirectional LSTM model\n",
    "model_bi_lstm = Sequential()\n",
    "model_bi_lstm.add(Bidirectional(LSTM(units=50, return_sequences=True, input_shape=(window_size, 1))))\n",
    "model_bi_lstm.add(Bidirectional(LSTM(units=50, return_sequences=False)))\n",
    "model_bi_lstm.add(Dense(units=25))\n",
    "model_bi_lstm.add(Dense(units=1))\n",
    "model_bi_lstm.compile(optimizer='adam', loss='mean_squared_error')\n",
    "\n",
    "model_bi_lstm.fit(X_train, y_train, batch_size=1, epochs=1)"
   ]
  },
  {
   "cell_type": "code",
   "execution_count": 7,
   "metadata": {},
   "outputs": [
    {
     "name": "stdout",
     "output_type": "stream",
     "text": [
      "4279/4279 [==============================] - 36s 8ms/step - loss: 2.5709e-05\n"
     ]
    },
    {
     "data": {
      "text/plain": [
       "<keras.callbacks.History at 0x1b0c18334c0>"
      ]
     },
     "execution_count": 7,
     "metadata": {},
     "output_type": "execute_result"
    }
   ],
   "source": [
    "# RNN model\n",
    "model_rnn = Sequential()\n",
    "model_rnn.add(SimpleRNN(units=50, return_sequences=True, input_shape=(window_size, 1)))\n",
    "model_rnn.add(SimpleRNN(units=50, return_sequences=False))\n",
    "model_rnn.add(Dense(units=25))\n",
    "model_rnn.add(Dense(units=1))\n",
    "\n",
    "model_rnn.compile(optimizer='adam', loss='mean_squared_error')\n",
    "model_rnn.fit(X_train, y_train, batch_size=1, epochs=1)"
   ]
  },
  {
   "cell_type": "code",
   "execution_count": 8,
   "metadata": {},
   "outputs": [
    {
     "name": "stdout",
     "output_type": "stream",
     "text": [
      "4279/4279 [==============================] - 6s 1ms/step - loss: 8.3469e-06\n"
     ]
    },
    {
     "data": {
      "text/plain": [
       "<keras.callbacks.History at 0x1b0c3b24040>"
      ]
     },
     "execution_count": 8,
     "metadata": {},
     "output_type": "execute_result"
    }
   ],
   "source": [
    "# CNN model\n",
    "model_cnn = Sequential()\n",
    "model_cnn.add(Conv1D(filters=64, kernel_size=2, activation='relu', input_shape=(window_size, 1)))\n",
    "model_cnn.add(MaxPooling1D(pool_size=2))\n",
    "model_cnn.add(Flatten())\n",
    "model_cnn.add(Dense(units=50))\n",
    "model_cnn.add(Dense(units=1))\n",
    "\n",
    "model_cnn.compile(optimizer='adam', loss='mean_squared_error')\n",
    "model_cnn.fit(X_train, y_train, batch_size=1, epochs=1)"
   ]
  },
  {
   "cell_type": "code",
   "execution_count": 9,
   "metadata": {},
   "outputs": [],
   "source": [
    "# Function to predict and inverse transform the data\n",
    "def predict_and_inverse_transform(model, X, y):\n",
    "    predictions = model.predict(X)\n",
    "    predictions = scaler.inverse_transform(predictions)\n",
    "    y = scaler.inverse_transform([y])\n",
    "    return predictions, y\n"
   ]
  },
  {
   "cell_type": "code",
   "execution_count": 10,
   "metadata": {},
   "outputs": [
    {
     "name": "stdout",
     "output_type": "stream",
     "text": [
      "33/33 [==============================] - 2s 10ms/step\n",
      "33/33 [==============================] - 0s 4ms/step\n",
      "33/33 [==============================] - 0s 1ms/step\n"
     ]
    }
   ],
   "source": [
    "# Predict using Bidirectional LSTM\n",
    "predictions_bi_lstm, y_test_bi_lstm = predict_and_inverse_transform(model_bi_lstm, X_test, y_test)\n",
    "\n",
    "# Predict using RNN\n",
    "predictions_rnn, y_test_rnn = predict_and_inverse_transform(model_rnn, X_test, y_test)\n",
    "\n",
    "# Predict using CNN\n",
    "predictions_cnn, y_test_cnn = predict_and_inverse_transform(model_cnn, X_test, y_test)"
   ]
  },
  {
   "cell_type": "code",
   "execution_count": 11,
   "metadata": {},
   "outputs": [],
   "source": [
    "# Calculate MAE and MSE\n",
    "mae_bi_lstm = mean_absolute_error(y_test_bi_lstm[0], predictions_bi_lstm)\n",
    "mse_bi_lstm = mean_squared_error(y_test_bi_lstm[0], predictions_bi_lstm)\n",
    "\n",
    "mae_rnn = mean_absolute_error(y_test_rnn[0], predictions_rnn)\n",
    "mse_rnn = mean_squared_error(y_test_rnn[0], predictions_rnn)\n",
    "\n",
    "mae_cnn = mean_absolute_error(y_test_cnn[0], predictions_cnn)\n",
    "mse_cnn = mean_squared_error(y_test_cnn[0], predictions_cnn)"
   ]
  },
  {
   "cell_type": "code",
   "execution_count": 12,
   "metadata": {},
   "outputs": [],
   "source": [
    "# Calculate MAE and MSE percentages\n",
    "mean_actual = np.mean(y_test_bi_lstm[0])\n",
    "mae_bi_lstm_pct = (mae_bi_lstm / mean_actual) * 100\n",
    "mse_bi_lstm_pct = (mse_bi_lstm / mean_actual) * 100\n",
    "\n",
    "mae_rnn_pct = (mae_rnn / mean_actual) * 100\n",
    "mse_rnn_pct = (mse_rnn / mean_actual) * 100\n",
    "\n",
    "mae_cnn_pct = (mae_cnn / mean_actual) * 100\n",
    "mse_cnn_pct = (mse_cnn / mean_actual) * 100\n",
    "\n",
    "# Calculate Accuracy\n",
    "accuracy_bi_lstm = 100 - mae_bi_lstm_pct\n",
    "accuracy_rnn = 100 - mae_rnn_pct\n",
    "accuracy_cnn = 100 - mae_cnn_pct"
   ]
  },
  {
   "cell_type": "code",
   "execution_count": 13,
   "metadata": {},
   "outputs": [
    {
     "name": "stdout",
     "output_type": "stream",
     "text": [
      "Bidirectional LSTM - MAE: 5.372399687090628%, MSE: 1545.7422321126774%, Accuracy: 94.62760031290938%\n",
      "RNN - MAE: 11.610792042706533%, MSE: 4906.242487141625%, Accuracy: 88.38920795729346%\n",
      "CNN - MAE: 5.93501926009697%, MSE: 1885.5216845409914%, Accuracy: 94.06498073990304%\n"
     ]
    }
   ],
   "source": [
    "# Print MAE and MSE percentages and accuracies\n",
    "print(f'Bidirectional LSTM - MAE: {mae_bi_lstm_pct}%, MSE: {mse_bi_lstm_pct}%, Accuracy: {accuracy_bi_lstm}%')\n",
    "print(f'RNN - MAE: {mae_rnn_pct}%, MSE: {mse_rnn_pct}%, Accuracy: {accuracy_rnn}%')\n",
    "print(f'CNN - MAE: {mae_cnn_pct}%, MSE: {mse_cnn_pct}%, Accuracy: {accuracy_cnn}%')"
   ]
  },
  {
   "cell_type": "code",
   "execution_count": 14,
   "metadata": {},
   "outputs": [],
   "source": [
    "# Plot bar graph for MAE and MSE percentages\n",
    "models = ['Bidirectional LSTM', 'RNN', 'CNN']\n",
    "mae_percentages = [mae_bi_lstm_pct, mae_rnn_pct, mae_cnn_pct]\n",
    "mse_percentages = [mse_bi_lstm_pct, mse_rnn_pct, mse_cnn_pct]"
   ]
  },
  {
   "cell_type": "code",
   "execution_count": 15,
   "metadata": {},
   "outputs": [
    {
     "data": {
      "text/plain": [
       "Text(0.5, 1.0, 'MAE Percentage for Models')"
      ]
     },
     "execution_count": 15,
     "metadata": {},
     "output_type": "execute_result"
    },
    {
     "data": {
      "image/png": "[encoded data removed]",
      "text/plain": [
       "<Figure size 1000x500 with 1 Axes>"
      ]
     },
     "metadata": {},
     "output_type": "display_data"
    }
   ],
   "source": [
    "plt.figure(figsize=(10, 5))\n",
    "plt.subplot(1, 2, 1)\n",
    "plt.bar(models, mae_percentages, color='blue')\n",
    "plt.xlabel('Models')\n",
    "plt.ylabel('MAE Percentage')\n",
    "plt.title('MAE Percentage for Models')"
   ]
  },
  {
   "cell_type": "code",
   "execution_count": 16,
   "metadata": {},
   "outputs": [
    {
     "data": {
      "text/plain": [
       "Text(0.5, 1.0, 'MSE Percentage for Models')"
      ]
     },
     "execution_count": 16,
     "metadata": {},
     "output_type": "execute_result"
    },
    {
     "data": {
      "image/png": "[encoded data removed]",
      "text/plain": [
       "<Figure size 640x480 with 1 Axes>"
      ]
     },
     "metadata": {},
     "output_type": "display_data"
    }
   ],
   "source": [
    "plt.subplot(1, 2, 2)\n",
    "plt.bar(models, mse_percentages, color='red')\n",
    "plt.xlabel('Models')\n",
    "plt.ylabel('MSE Percentage')\n",
    "plt.title('MSE Percentage for Models')"
   ]
  },
  {
   "cell_type": "code",
   "execution_count": 17,
   "metadata": {},
   "outputs": [
    {
     "data": {
      "text/plain": [
       "<Figure size 640x480 with 0 Axes>"
      ]
     },
     "metadata": {},
     "output_type": "display_data"
    }
   ],
   "source": [
    "\n",
    "plt.tight_layout()\n",
    "plt.show()"
   ]
  },
  {
   "cell_type": "code",
   "execution_count": 18,
   "metadata": {},
   "outputs": [
    {
     "data": {
      "image/png": "[encoded data removed]",
      "text/plain": [
       "<Figure size 1000x500 with 1 Axes>"
      ]
     },
     "metadata": {},
     "output_type": "display_data"
    }
   ],
   "source": [
    "# Plot line graph for MAE and MSE\n",
    "plt.figure(figsize=(10, 5))\n",
    "plt.plot(models, mae_percentages, marker='o', label='MAE Percentage', color='blue')\n",
    "plt.plot(models, mse_percentages, marker='o', label='MSE Percentage', color='red')\n",
    "plt.xlabel('Models')\n",
    "plt.ylabel('Percentage')\n",
    "plt.title('MAE and MSE Percentage for Models')\n",
    "plt.legend()\n",
    "plt.show()"
   ]
  },
  {
   "cell_type": "code",
   "execution_count": null,
   "metadata": {},
   "outputs": [],
   "source": []
  }
 ],
 "metadata": {
  "kernelspec": {
   "display_name": "textS",
   "language": "python",
   "name": "python3"
  },
  "language_info": {
   "codemirror_mode": {
    "name": "ipython",
    "version": 3
   },
   "file_extension": ".py",
   "mimetype": "text/x-python",
   "name": "python",
   "nbconvert_exporter": "python",
   "pygments_lexer": "ipython3",
   "version": "3.8.19"
  }
 },
 "nbformat": 4,
 "nbformat_minor": 2
}
